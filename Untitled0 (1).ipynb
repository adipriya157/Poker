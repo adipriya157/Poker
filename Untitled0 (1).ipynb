{
  "cells": [
    {
      "cell_type": "code",
      "execution_count": null,
      "metadata": {
        "colab": {
          "base_uri": "https://localhost:8080/"
        },
        "id": "LtTD8qjaUOZa",
        "outputId": "2ccc05a3-9327-4096-f777-b2b67929a0df"
      },
      "outputs": [
        {
          "name": "stdout",
          "output_type": "stream",
          "text": [
            "Requirement already satisfied: treys in /usr/local/lib/python3.11/dist-packages (0.1.8)\n"
          ]
        }
      ],
      "source": [
        "!pip install treys"
      ]
    },
    {
      "cell_type": "code",
      "execution_count": null,
      "metadata": {
        "colab": {
          "base_uri": "https://localhost:8080/",
          "height": 385
        },
        "collapsed": true,
        "id": "5S2oU5DJUR93",
        "outputId": "6c5ac210-2732-493e-924f-448fe9156c52"
      },
      "outputs": [
        {
          "output_type": "error",
          "ename": "ModuleNotFoundError",
          "evalue": "No module named 'treys'",
          "traceback": [
            "\u001b[0;31m---------------------------------------------------------------------------\u001b[0m",
            "\u001b[0;31mModuleNotFoundError\u001b[0m                       Traceback (most recent call last)",
            "\u001b[0;32m<ipython-input-7-5641f510aece>\u001b[0m in \u001b[0;36m<cell line: 0>\u001b[0;34m()\u001b[0m\n\u001b[1;32m      1\u001b[0m \u001b[0;32mimport\u001b[0m \u001b[0mrandom\u001b[0m\u001b[0;34m\u001b[0m\u001b[0;34m\u001b[0m\u001b[0m\n\u001b[0;32m----> 2\u001b[0;31m \u001b[0;32mfrom\u001b[0m \u001b[0mtreys\u001b[0m \u001b[0;32mimport\u001b[0m \u001b[0mCard\u001b[0m\u001b[0;34m,\u001b[0m \u001b[0mEvaluator\u001b[0m\u001b[0;34m\u001b[0m\u001b[0;34m\u001b[0m\u001b[0m\n\u001b[0m\u001b[1;32m      3\u001b[0m \u001b[0;32mfrom\u001b[0m \u001b[0mcollections\u001b[0m \u001b[0;32mimport\u001b[0m \u001b[0mCounter\u001b[0m\u001b[0;34m\u001b[0m\u001b[0;34m\u001b[0m\u001b[0m\n\u001b[1;32m      4\u001b[0m \u001b[0;32mfrom\u001b[0m \u001b[0mitertools\u001b[0m \u001b[0;32mimport\u001b[0m \u001b[0mcombinations\u001b[0m\u001b[0;34m\u001b[0m\u001b[0;34m\u001b[0m\u001b[0m\n\u001b[1;32m      5\u001b[0m \u001b[0;34m\u001b[0m\u001b[0m\n",
            "\u001b[0;31mModuleNotFoundError\u001b[0m: No module named 'treys'",
            "",
            "\u001b[0;31m---------------------------------------------------------------------------\u001b[0;32m\nNOTE: If your import is failing due to a missing package, you can\nmanually install dependencies using either !pip or !apt.\n\nTo view examples of installing some common dependencies, click the\n\"Open Examples\" button below.\n\u001b[0;31m---------------------------------------------------------------------------\u001b[0m\n"
          ],
          "errorDetails": {
            "actions": [
              {
                "action": "open_url",
                "actionText": "Open Examples",
                "url": "/notebooks/snippets/importing_libraries.ipynb"
              }
            ]
          }
        }
      ],
      "source": [
        "import random\n",
        "from treys import Card, Evaluator\n",
        "from collections import Counter\n",
        "from itertools import combinations\n",
        "\n",
        "# --- Card mapping ---\n",
        "rank_map = {'2': 2, '3': 3, '4': 4, '5': 5, '6': 6, '7': 7,\n",
        "            '8': 8, '9': 9, 'T': 10, 'J': 11, 'Q': 12, 'K': 13, 'A': 14}\n",
        "suit_map = {'♠': 's', '♥': 'h', '♦': 'd', '♣': 'c'}\n",
        "\n",
        "def convert_to_treys(card_str):\n",
        "    return Card.new(card_str[0] + suit_map[card_str[1]])\n",
        "\n",
        "def hand_label(hand):\n",
        "    ranks = sorted([card[0] for card in hand], key=lambda r: '23456789TJQKA'.index(r), reverse=True)\n",
        "    suited = hand[0][1] == hand[1][1]\n",
        "    return ''.join(ranks) + ('s' if suited else 'o')\n",
        "\n",
        "evaluator = Evaluator()\n",
        "\n",
        "def Reward(hand1, hand2, community):\n",
        "    hand1_t = [convert_to_treys(c) for c in hand1]\n",
        "    hand2_t = [convert_to_treys(c) for c in hand2]\n",
        "    comm_t = [convert_to_treys(c) for c in community]\n",
        "    score1 = evaluator.evaluate(comm_t, hand1_t)\n",
        "    score2 = evaluator.evaluate(comm_t, hand2_t)\n",
        "\n",
        "    class2 = evaluator.get_rank_class(score2)\n",
        "    hand_type = evaluator.class_to_string(class2)\n",
        "\n",
        "    if hand_type == \"High Card\":\n",
        "        return 0\n",
        "    elif hand_type == \"One Pair\":\n",
        "        full = hand2 + community\n",
        "        ranks = [c[0] for c in full]\n",
        "        count = Counter(ranks)\n",
        "        pairs = [r for r, c in count.items() if c >= 2]\n",
        "        highest = max([rank_map[p] for p in pairs]) if pairs else 0\n",
        "        if highest < 4:\n",
        "            return 0\n",
        "\n",
        "    if score1 < score2:\n",
        "        return 1\n",
        "    elif score2 < score1:\n",
        "        return -1\n",
        "    return 0\n",
        "\n",
        "def Multiplier(hand1, community):\n",
        "    hand1_t = [convert_to_treys(c) for c in hand1]\n",
        "    comm_t = [convert_to_treys(c) for c in community]\n",
        "    score = evaluator.evaluate(comm_t, hand1_t)\n",
        "    class_num = evaluator.get_rank_class(score)\n",
        "    hand_name = evaluator.class_to_string(class_num)\n",
        "    return {\n",
        "        \"High Card\": 1, \"One Pair\": 1, \"Two Pair\": 1, \"Three of a Kind\": 1,\n",
        "        \"Straight\": 1, \"Flush\": 3, \"Full House\": 4, \"Four of a Kind\": 10,\n",
        "        \"Straight Flush\": 25, \"Royal Flush\": 100\n",
        "    }.get(hand_name, 1)\n",
        "\n",
        "def finalReward(hand1, hand2, community, a):\n",
        "    r = Reward(hand1, hand2, community)\n",
        "    if r == 1:\n",
        "        return (1 + Multiplier(hand1, community)) + a\n",
        "    if r == 0:\n",
        "        return 1\n",
        "    if r == -1:\n",
        "        if a == -1:\n",
        "          return 0\n",
        "        else:\n",
        "          return -a\n",
        "\n",
        "# Q-table\n",
        "Q = {}\n",
        "\n",
        "# Uniform exploration of all starting hands\n",
        "deck = [r + s for r in rank_map for s in suit_map]\n",
        "starting_hands = list(combinations(deck, 2))\n",
        "\n",
        "for hand1 in starting_hands:\n",
        "    hand1 = list(hand1)\n",
        "    for i in range(100):  # simulate 100 games per hand\n",
        "        # Deal the rest of the cards (excluding hand1)\n",
        "        remaining_deck = [c for c in deck if c not in hand1]\n",
        "        random.shuffle(remaining_deck)\n",
        "        hand2 = [remaining_deck.pop(), remaining_deck.pop()]\n",
        "        community = [remaining_deck.pop() for _ in range(5)]\n",
        "\n",
        "        t1 = tuple(sorted(hand1))\n",
        "        t2 = tuple(sorted(hand1 + community[:3]))\n",
        "        t3 = tuple(sorted(hand1 + community))\n",
        "\n",
        "        a = random.choice([0, 4])  # preflop: check or raise\n",
        "        Q[(t1, a)] = (1 / (i + 1)) * finalReward(hand1, hand2, community, a) + (i / (i + 1)) * Q.get((t1, a), 0)\n",
        "\n",
        "        if a == 0:\n",
        "            a2 = random.choice([0, 2])\n",
        "            Q[(t2, a2)] = (1 / (i + 1)) * finalReward(hand1, hand2, community, a2) + (i / (i + 1)) * Q.get((t2, a2), 0)\n",
        "\n",
        "            if a2 == 0:\n",
        "                a3 = random.choice([-1, 1])\n",
        "                Q[(t3, a3)] = (1 / (i + 1)) * finalReward(hand1, hand2, community, a3) + (i / (i + 1)) * Q.get((t3, a3), 0)\n",
        "\n"
      ]
    },
    {
      "cell_type": "code",
      "execution_count": null,
      "metadata": {
        "colab": {
          "base_uri": "https://localhost:8080/",
          "height": 211
        },
        "id": "WBWwRt2bDeEa",
        "outputId": "93ba6676-53cd-4a5a-f45d-2a4d92659a8f"
      },
      "outputs": [
        {
          "output_type": "error",
          "ename": "NameError",
          "evalue": "name 'Q' is not defined",
          "traceback": [
            "\u001b[0;31m---------------------------------------------------------------------------\u001b[0m",
            "\u001b[0;31mNameError\u001b[0m                                 Traceback (most recent call last)",
            "\u001b[0;32m<ipython-input-5-181d1e2abff5>\u001b[0m in \u001b[0;36m<cell line: 0>\u001b[0;34m()\u001b[0m\n\u001b[1;32m      1\u001b[0m \u001b[0mbest_action_q_values\u001b[0m \u001b[0;34m=\u001b[0m \u001b[0;34m[\u001b[0m\u001b[0;34m]\u001b[0m\u001b[0;34m\u001b[0m\u001b[0;34m\u001b[0m\u001b[0m\n\u001b[1;32m      2\u001b[0m \u001b[0;34m\u001b[0m\u001b[0m\n\u001b[0;32m----> 3\u001b[0;31m \u001b[0;32mfor\u001b[0m \u001b[0;34m(\u001b[0m\u001b[0mstate\u001b[0m\u001b[0;34m,\u001b[0m \u001b[0maction\u001b[0m\u001b[0;34m)\u001b[0m \u001b[0;32min\u001b[0m \u001b[0mQ\u001b[0m\u001b[0;34m:\u001b[0m\u001b[0;34m\u001b[0m\u001b[0;34m\u001b[0m\u001b[0m\n\u001b[0m\u001b[1;32m      4\u001b[0m     \u001b[0;32mif\u001b[0m \u001b[0mlen\u001b[0m\u001b[0;34m(\u001b[0m\u001b[0mstate\u001b[0m\u001b[0;34m)\u001b[0m \u001b[0;34m!=\u001b[0m \u001b[0;36m2\u001b[0m\u001b[0;34m:\u001b[0m\u001b[0;34m\u001b[0m\u001b[0;34m\u001b[0m\u001b[0m\n\u001b[1;32m      5\u001b[0m         \u001b[0;32mcontinue\u001b[0m  \u001b[0;31m# only preflop states\u001b[0m\u001b[0;34m\u001b[0m\u001b[0;34m\u001b[0m\u001b[0m\n",
            "\u001b[0;31mNameError\u001b[0m: name 'Q' is not defined"
          ]
        }
      ],
      "source": [
        "best_action_q_values = []\n",
        "\n",
        "for (state, action) in Q:\n",
        "    if len(state) != 2:\n",
        "        continue  # only preflop states\n",
        "\n",
        "    # only evaluate once per unique state\n",
        "    if any(s == state for (s, _) in best_action_q_values):\n",
        "        continue\n",
        "\n",
        "    q_check = Q.get((state, 0), 0)\n",
        "    q_raise = Q.get((state, 4), 0)\n",
        "    best_q = max(q_check, q_raise)\n",
        "    best_action_q_values.append((state, best_q))\n",
        "\n",
        "# Extract just the values and compute average\n",
        "avg_q_value = sum(q for _, q in best_action_q_values) / len(best_action_q_values)\n",
        "\n",
        "print(f\"Average Q-value of best preflop action: {avg_q_value:.2f}\")"
      ]
    },
    {
      "cell_type": "code",
      "execution_count": null,
      "metadata": {
        "colab": {
          "base_uri": "https://localhost:8080/",
          "height": 367
        },
        "id": "P4gQivN1DAoE",
        "outputId": "c584b015-3e3f-4689-d55d-c740cf7d78ec"
      },
      "outputs": [
        {
          "output_type": "stream",
          "name": "stdout",
          "text": [
            "\n",
            "Preflop Q-values:\n"
          ]
        },
        {
          "output_type": "error",
          "ename": "NameError",
          "evalue": "name 'Q' is not defined",
          "traceback": [
            "\u001b[0;31m---------------------------------------------------------------------------\u001b[0m",
            "\u001b[0;31mNameError\u001b[0m                                 Traceback (most recent call last)",
            "\u001b[0;32m<ipython-input-2-6516b6aea922>\u001b[0m in \u001b[0;36m<cell line: 0>\u001b[0;34m()\u001b[0m\n\u001b[1;32m     27\u001b[0m \u001b[0;34m\u001b[0m\u001b[0m\n\u001b[1;32m     28\u001b[0m \u001b[0;31m# 🔧 To print Q-values for all hands:\u001b[0m\u001b[0;34m\u001b[0m\u001b[0;34m\u001b[0m\u001b[0m\n\u001b[0;32m---> 29\u001b[0;31m \u001b[0mprint_preflop_q_values\u001b[0m\u001b[0;34m(\u001b[0m\u001b[0;34m)\u001b[0m\u001b[0;34m\u001b[0m\u001b[0;34m\u001b[0m\u001b[0m\n\u001b[0m\u001b[1;32m     30\u001b[0m \u001b[0;34m\u001b[0m\u001b[0m\n\u001b[1;32m     31\u001b[0m \u001b[0;31m# 🔧 Or to check specific hands only:\u001b[0m\u001b[0;34m\u001b[0m\u001b[0;34m\u001b[0m\u001b[0m\n",
            "\u001b[0;32m<ipython-input-2-6516b6aea922>\u001b[0m in \u001b[0;36mprint_preflop_q_values\u001b[0;34m(hands_to_check)\u001b[0m\n\u001b[1;32m      4\u001b[0m     \u001b[0mqvals\u001b[0m \u001b[0;34m=\u001b[0m \u001b[0;34m[\u001b[0m\u001b[0;34m]\u001b[0m\u001b[0;34m\u001b[0m\u001b[0;34m\u001b[0m\u001b[0m\n\u001b[1;32m      5\u001b[0m \u001b[0;34m\u001b[0m\u001b[0m\n\u001b[0;32m----> 6\u001b[0;31m     \u001b[0;32mfor\u001b[0m \u001b[0;34m(\u001b[0m\u001b[0mstate\u001b[0m\u001b[0;34m,\u001b[0m \u001b[0maction\u001b[0m\u001b[0;34m)\u001b[0m \u001b[0;32min\u001b[0m \u001b[0mQ\u001b[0m\u001b[0;34m:\u001b[0m\u001b[0;34m\u001b[0m\u001b[0;34m\u001b[0m\u001b[0m\n\u001b[0m\u001b[1;32m      7\u001b[0m         \u001b[0;32mif\u001b[0m \u001b[0mlen\u001b[0m\u001b[0;34m(\u001b[0m\u001b[0mstate\u001b[0m\u001b[0;34m)\u001b[0m \u001b[0;34m!=\u001b[0m \u001b[0;36m2\u001b[0m\u001b[0;34m:\u001b[0m\u001b[0;34m\u001b[0m\u001b[0;34m\u001b[0m\u001b[0m\n\u001b[1;32m      8\u001b[0m             \u001b[0;32mcontinue\u001b[0m  \u001b[0;31m# only preflop\u001b[0m\u001b[0;34m\u001b[0m\u001b[0;34m\u001b[0m\u001b[0m\n",
            "\u001b[0;31mNameError\u001b[0m: name 'Q' is not defined"
          ]
        }
      ],
      "source": [
        "# --- Q-values for preflop hands (2 cards only) ---\n",
        "def print_preflop_q_values(hands_to_check=None):\n",
        "    print(\"\\nPreflop Q-values:\")\n",
        "    qvals = []\n",
        "\n",
        "    for (state, action) in Q:\n",
        "        if len(state) != 2:\n",
        "            continue  # only preflop\n",
        "\n",
        "        label = hand_label(state)\n",
        "        if hands_to_check and label not in hands_to_check:\n",
        "            continue\n",
        "\n",
        "        if action not in [0, 4]:\n",
        "            continue\n",
        "\n",
        "        entry = next((x for x in qvals if x['hand'] == label), None)\n",
        "        if not entry:\n",
        "            entry = {'hand': label, 'check': Q.get((state, 0), 0), 'raise': Q.get((state, 4), 0)}\n",
        "            qvals.append(entry)\n",
        "\n",
        "    # Sort for display\n",
        "    qvals_sorted = sorted(qvals, key=lambda x: ('23456789TJQKA'.index(x['hand'][0]), x['hand']), reverse=True)\n",
        "\n",
        "    for q in qvals_sorted:\n",
        "        print(f\"{q['hand']:>4} | Check: {q['check']:.2f} | Raise: {q['raise']:.2f}\")\n",
        "\n",
        "# 🔧 To print Q-values for all hands:\n",
        "print_preflop_q_values()\n",
        "\n",
        "# 🔧 Or to check specific hands only:\n",
        "# print_preflop_q_values(hands_to_check=['AA', 'AKs', '72o', 'JTo'])"
      ]
    },
    {
      "cell_type": "markdown",
      "metadata": {
        "id": "0QhXveEo2a6n"
      },
      "source": [
        "# New Section"
      ]
    },
    {
      "cell_type": "code",
      "execution_count": null,
      "metadata": {
        "id": "Yvzp_IRe7KwR"
      },
      "outputs": [],
      "source": [
        "import matplotlib.pyplot as plt\n",
        "import numpy as np\n",
        "\n",
        "def build_heatmap_matrix():\n",
        "    heatmap = np.zeros((13, 13))\n",
        "    actions = {}\n",
        "\n",
        "    for (state, action) in Q:\n",
        "        if len(state) != 2:\n",
        "            continue\n",
        "\n",
        "        label = hand_label(state)\n",
        "        r1 = 'AKQJT98765432'.index(label[0])\n",
        "        r2 = 'AKQJT98765432'.index(label[1])\n",
        "        i, j = (r1, r2) if 's' in label else (r2, r1)\n",
        "\n",
        "        q_raise = Q.get((state, 4), 0)\n",
        "        q_check = Q.get((state, 0), 0)\n",
        "\n",
        "        # Fill heatmap with difference\n",
        "        heatmap[i, j] = q_raise - q_check\n",
        "        actions[(i, j)] = label\n",
        "\n",
        "    return heatmap, actions"
      ]
    },
    {
      "cell_type": "code",
      "execution_count": null,
      "metadata": {
        "colab": {
          "base_uri": "https://localhost:8080/",
          "height": 321
        },
        "collapsed": true,
        "id": "qK8PVq337Le2",
        "outputId": "071c7980-9012-41aa-9a21-d9267db0b2ba"
      },
      "outputs": [
        {
          "output_type": "error",
          "ename": "NameError",
          "evalue": "name 'Q' is not defined",
          "traceback": [
            "\u001b[0;31m---------------------------------------------------------------------------\u001b[0m",
            "\u001b[0;31mNameError\u001b[0m                                 Traceback (most recent call last)",
            "\u001b[0;32m<ipython-input-4-9ae5cc20a0f1>\u001b[0m in \u001b[0;36m<cell line: 0>\u001b[0;34m()\u001b[0m\n\u001b[1;32m     25\u001b[0m     \u001b[0mplt\u001b[0m\u001b[0;34m.\u001b[0m\u001b[0mshow\u001b[0m\u001b[0;34m(\u001b[0m\u001b[0;34m)\u001b[0m\u001b[0;34m\u001b[0m\u001b[0;34m\u001b[0m\u001b[0m\n\u001b[1;32m     26\u001b[0m \u001b[0;34m\u001b[0m\u001b[0m\n\u001b[0;32m---> 27\u001b[0;31m \u001b[0mplot_preflop_heatmap\u001b[0m\u001b[0;34m(\u001b[0m\u001b[0;34m)\u001b[0m\u001b[0;34m\u001b[0m\u001b[0;34m\u001b[0m\u001b[0m\n\u001b[0m",
            "\u001b[0;32m<ipython-input-4-9ae5cc20a0f1>\u001b[0m in \u001b[0;36mplot_preflop_heatmap\u001b[0;34m()\u001b[0m\n\u001b[1;32m      1\u001b[0m \u001b[0;32mdef\u001b[0m \u001b[0mplot_preflop_heatmap\u001b[0m\u001b[0;34m(\u001b[0m\u001b[0;34m)\u001b[0m\u001b[0;34m:\u001b[0m\u001b[0;34m\u001b[0m\u001b[0;34m\u001b[0m\u001b[0m\n\u001b[0;32m----> 2\u001b[0;31m     \u001b[0mheatmap\u001b[0m\u001b[0;34m,\u001b[0m \u001b[0mactions\u001b[0m \u001b[0;34m=\u001b[0m \u001b[0mbuild_heatmap_matrix\u001b[0m\u001b[0;34m(\u001b[0m\u001b[0;34m)\u001b[0m\u001b[0;34m\u001b[0m\u001b[0;34m\u001b[0m\u001b[0m\n\u001b[0m\u001b[1;32m      3\u001b[0m     \u001b[0mfig\u001b[0m\u001b[0;34m,\u001b[0m \u001b[0max\u001b[0m \u001b[0;34m=\u001b[0m \u001b[0mplt\u001b[0m\u001b[0;34m.\u001b[0m\u001b[0msubplots\u001b[0m\u001b[0;34m(\u001b[0m\u001b[0mfigsize\u001b[0m\u001b[0;34m=\u001b[0m\u001b[0;34m(\u001b[0m\u001b[0;36m10\u001b[0m\u001b[0;34m,\u001b[0m \u001b[0;36m8\u001b[0m\u001b[0;34m)\u001b[0m\u001b[0;34m)\u001b[0m\u001b[0;34m\u001b[0m\u001b[0;34m\u001b[0m\u001b[0m\n\u001b[1;32m      4\u001b[0m     \u001b[0mcax\u001b[0m \u001b[0;34m=\u001b[0m \u001b[0max\u001b[0m\u001b[0;34m.\u001b[0m\u001b[0mmatshow\u001b[0m\u001b[0;34m(\u001b[0m\u001b[0mheatmap\u001b[0m\u001b[0;34m,\u001b[0m \u001b[0mcmap\u001b[0m\u001b[0;34m=\u001b[0m\u001b[0;34m'coolwarm'\u001b[0m\u001b[0;34m,\u001b[0m \u001b[0mvmin\u001b[0m\u001b[0;34m=\u001b[0m\u001b[0;34m-\u001b[0m\u001b[0;36m5\u001b[0m\u001b[0;34m,\u001b[0m \u001b[0mvmax\u001b[0m\u001b[0;34m=\u001b[0m\u001b[0;36m5\u001b[0m\u001b[0;34m)\u001b[0m\u001b[0;34m\u001b[0m\u001b[0;34m\u001b[0m\u001b[0m\n\u001b[1;32m      5\u001b[0m \u001b[0;34m\u001b[0m\u001b[0m\n",
            "\u001b[0;32m<ipython-input-3-23d97f6e98f3>\u001b[0m in \u001b[0;36mbuild_heatmap_matrix\u001b[0;34m()\u001b[0m\n\u001b[1;32m      6\u001b[0m     \u001b[0mactions\u001b[0m \u001b[0;34m=\u001b[0m \u001b[0;34m{\u001b[0m\u001b[0;34m}\u001b[0m\u001b[0;34m\u001b[0m\u001b[0;34m\u001b[0m\u001b[0m\n\u001b[1;32m      7\u001b[0m \u001b[0;34m\u001b[0m\u001b[0m\n\u001b[0;32m----> 8\u001b[0;31m     \u001b[0;32mfor\u001b[0m \u001b[0;34m(\u001b[0m\u001b[0mstate\u001b[0m\u001b[0;34m,\u001b[0m \u001b[0maction\u001b[0m\u001b[0;34m)\u001b[0m \u001b[0;32min\u001b[0m \u001b[0mQ\u001b[0m\u001b[0;34m:\u001b[0m\u001b[0;34m\u001b[0m\u001b[0;34m\u001b[0m\u001b[0m\n\u001b[0m\u001b[1;32m      9\u001b[0m         \u001b[0;32mif\u001b[0m \u001b[0mlen\u001b[0m\u001b[0;34m(\u001b[0m\u001b[0mstate\u001b[0m\u001b[0;34m)\u001b[0m \u001b[0;34m!=\u001b[0m \u001b[0;36m2\u001b[0m\u001b[0;34m:\u001b[0m\u001b[0;34m\u001b[0m\u001b[0;34m\u001b[0m\u001b[0m\n\u001b[1;32m     10\u001b[0m             \u001b[0;32mcontinue\u001b[0m\u001b[0;34m\u001b[0m\u001b[0;34m\u001b[0m\u001b[0m\n",
            "\u001b[0;31mNameError\u001b[0m: name 'Q' is not defined"
          ]
        }
      ],
      "source": [
        "def plot_preflop_heatmap():\n",
        "    heatmap, actions = build_heatmap_matrix()\n",
        "    fig, ax = plt.subplots(figsize=(10, 8))\n",
        "    cax = ax.matshow(heatmap, cmap='coolwarm', vmin=-5, vmax=5)\n",
        "\n",
        "    plt.colorbar(cax, label='Raise Advantage')\n",
        "\n",
        "    # Axis labels\n",
        "    ranks = list('AKQJT98765432')\n",
        "    ax.set_xticks(np.arange(13))\n",
        "    ax.set_yticks(np.arange(13))\n",
        "    ax.set_xticklabels(ranks)\n",
        "    ax.set_yticklabels(ranks)\n",
        "\n",
        "    # Hand labels\n",
        "    for i in range(13):\n",
        "        for j in range(13):\n",
        "            label = actions.get((i, j), '')\n",
        "            if label:\n",
        "                ax.text(j, i, label, va='center', ha='center', fontsize=6, color='black')\n",
        "\n",
        "    ax.set_title(\"Preflop Raise Advantage Heatmap\")\n",
        "    plt.xlabel(\"Second Card\")\n",
        "    plt.ylabel(\"First Card\")\n",
        "    plt.show()\n",
        "\n",
        "plot_preflop_heatmap()"
      ]
    }
  ],
  "metadata": {
    "colab": {
      "toc_visible": true,
      "provenance": []
    },
    "kernelspec": {
      "display_name": "Python 3",
      "name": "python3"
    },
    "language_info": {
      "name": "python"
    }
  },
  "nbformat": 4,
  "nbformat_minor": 0
}